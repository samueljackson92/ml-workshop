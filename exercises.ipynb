{
 "cells": [
  {
   "cell_type": "markdown",
   "metadata": {},
   "source": [
    "## Machine Learning Workshop\n",
    "\n",
    "This notebook contains the code for the execises the machine learning workshop.\n",
    "\n",
    "This first section contains some boilerplate stuff I wrote to help with plotting. You can skip over this to Exercise 1."
   ]
  },
  {
   "cell_type": "code",
   "execution_count": 1,
   "metadata": {},
   "outputs": [],
   "source": [
    "import matplotlib.pyplot as plt\n",
    "import numpy as np\n",
    "import itertools\n",
    "\n",
    "import pandas as pd\n",
    "import numpy as np\n",
    "from sklearn.preprocessing import StandardScaler\n",
    "\n",
    "def plot_confusion_matrix(cm, classes,\n",
    "                          normalize=False,\n",
    "                          title='Confusion matrix',\n",
    "                          cmap=plt.cm.Blues):\n",
    "    \"\"\"\n",
    "    This function prints and plots the confusion matrix.\n",
    "    Normalization can be applied by setting `normalize=True`.\n",
    "    \"\"\"\n",
    "    if normalize:\n",
    "        cm = cm.astype('float') / cm.sum(axis=1)[:, np.newaxis]\n",
    "\n",
    "    plt.imshow(cm, interpolation='nearest', cmap=cmap)\n",
    "    plt.title(title)\n",
    "    plt.colorbar()\n",
    "    tick_marks = np.arange(len(classes))\n",
    "    plt.xticks(tick_marks, classes, rotation=45)\n",
    "    plt.yticks(tick_marks, classes)\n",
    "\n",
    "    fmt = '.2f' if normalize else 'd'\n",
    "    thresh = cm.max() / 2.\n",
    "    for i, j in itertools.product(range(cm.shape[0]), range(cm.shape[1])):\n",
    "        plt.text(j, i, format(cm[i, j], fmt),\n",
    "                 horizontalalignment=\"center\",\n",
    "                 color=\"white\" if cm[i, j] > thresh else \"black\")\n",
    "\n",
    "    plt.ylabel('True label')\n",
    "    plt.xlabel('Predicted label')\n",
    "    plt.tight_layout()\n",
    "\n",
    "def percent_incorrect(y_hat, y_true):\n",
    "    return np.sum(y_hat == y_true) / y_true.shape[0] * 100"
   ]
  },
  {
   "cell_type": "markdown",
   "metadata": {},
   "source": [
    "# Exercise 1: Simple Classification\n",
    "\n",
    "In this exercise we're going to make a simple classifier for the Iris dataset that comes with `sklean`. Here is some code to get you started. Some things to try:\n",
    " - Try changing the train/test split value\n",
    " - Try changing to use the [KFold cross validation](https://scikit-learn.org/stable/modules/generated/sklearn.model_selection.KFold.html) and see this [helper function](https://scikit-learn.org/stable/modules/generated/sklearn.model_selection.cross_val_score.html#sklearn.model_selection.cross_val_score).\n",
    " - Try change the estimator to use [SVC from the svm module](https://scikit-learn.org/stable/modules/svm.html).\n"
   ]
  },
  {
   "cell_type": "code",
   "execution_count": 17,
   "metadata": {},
   "outputs": [
    {
     "name": "stdout",
     "output_type": "stream",
     "text": [
      "% of labels that were correct: 92.11\n"
     ]
    },
    {
     "data": {
      "image/png": "[encoded data removed]",
      "text/plain": [
       "<Figure size 432x288 with 2 Axes>"
      ]
     },
     "metadata": {
      "needs_background": "light"
     },
     "output_type": "display_data"
    }
   ],
   "source": [
    "from sklearn import linear_model\n",
    "from sklearn.model_selection import train_test_split\n",
    "from sklearn.metrics import confusion_matrix\n",
    "from sklearn import datasets\n",
    "\n",
    "# Loading the dataset\n",
    "# - This is just a toy dataset for tutorials from scikit-learn\n",
    "iris = datasets.load_iris()\n",
    "\n",
    "# Split our training data into \"Training\" & \"Test\" data.\n",
    "# We will pretend we don't know the labels to the test data so we can check how the model does.\n",
    "X_train, X_test, y_train, y_test = train_test_split(iris.data, iris.target, test_size=0.25)\n",
    "\n",
    "# Model fitting\n",
    "# First create a new estimator. This an Support Vector Machine classifier. The esitmator class\n",
    "# is called LogisticRegression.\n",
    "classifier = linear_model.LogisticRegression(solver='lbfgs', multi_class='auto', max_iter=100)\n",
    "classifier.fit(X_train, y_train)  \n",
    "\n",
    "# Prediction\n",
    "# - Use our test dataset to predict a classifier\n",
    "y_predicted = classifier.predict(X_test)\n",
    "\n",
    "print(\"% of labels that were correct: {:.2f}\".format(percent_incorrect(y_predicted, y_test)))\n",
    "# generate the confusion matrix from sklearn\n",
    "cm = confusion_matrix(y_predicted, y_test)\n",
    "plot_confusion_matrix(cm, iris.target_names)"
   ]
  },
  {
   "cell_type": "markdown",
   "metadata": {},
   "source": [
    "# Exercise 2: Clustering"
   ]
  },
  {
   "cell_type": "markdown",
   "metadata": {},
   "source": [
    "Next up we're going to write some code to do unsupervised learning. Here we'll write use the KMeans clustering algorithm to generate class predictions without using the labels. \n",
    " - Try and measure the [silhouette score](https://scikit-learn.org/stable/modules/generated/sklearn.metrics.silhouette_score.html) of your clusters.\n",
    " - Try changing the [clustering algorithm](https://scikit-learn.org/stable/modules/clustering.html)"
   ]
  },
  {
   "cell_type": "code",
   "execution_count": 5,
   "metadata": {},
   "outputs": [],
   "source": [
    "from sklearn.cluster import KMeans\n",
    "\n",
    "# You write some code to cluster the Iris data"
   ]
  },
  {
   "cell_type": "markdown",
   "metadata": {},
   "source": [
    "# Exercise 3: Titanic Dataset\n",
    "\n",
    "This the the starter code for the [Titanic Kaggle Problem](https://www.kaggle.com/c/titanic). This code will load the dataset of Titanic passenger info from a CSV file using another helpful library called [pandas](http://pandas.pydata.org/). I also did some cleaning up of the data to help get you started. In the code below I'm just using the same Logistic Regression model that we used in example 1. Think about\n",
    "\n",
    " - Different classifiers?\n",
    " - Different set of parameters for those classifiers? (read the docs)\n",
    " - Invesitgate what the variables are in the Titanic dataset.\n",
    "      - Can we make or calculate better ones?\n",
    "      - e.g. I've just encoded all those missing a Cabin enty as 'U' for unknown. Perhaps not being assigned a cabin is particularly important for survival?\n",
    "          - Maybe make a new boolean variable HasCabin\n",
    "      - e.g. Some Cabins have multiple entries? Perhaps that relates to the number of children travelling with that passenger? \n",
    "          - Maybe make a new boolean variable MultipleCabins"
   ]
  },
  {
   "cell_type": "code",
   "execution_count": 5,
   "metadata": {},
   "outputs": [
    {
     "data": {
      "text/html": [
       "<div>\n",
       "<style scoped>\n",
       "    .dataframe tbody tr th:only-of-type {\n",
       "        vertical-align: middle;\n",
       "    }\n",
       "\n",
       "    .dataframe tbody tr th {\n",
       "        vertical-align: top;\n",
       "    }\n",
       "\n",
       "    .dataframe thead th {\n",
       "        text-align: right;\n",
       "    }\n",
       "</style>\n",
       "<table border=\"1\" class=\"dataframe\">\n",
       "  <thead>\n",
       "    <tr style=\"text-align: right;\">\n",
       "      <th></th>\n",
       "      <th>PassengerId</th>\n",
       "      <th>Pclass</th>\n",
       "      <th>Sex</th>\n",
       "      <th>Age</th>\n",
       "      <th>SibSp</th>\n",
       "      <th>Parch</th>\n",
       "      <th>Fare</th>\n",
       "      <th>Cabin</th>\n",
       "      <th>Embarked</th>\n",
       "      <th>t1</th>\n",
       "      <th>t2</th>\n",
       "    </tr>\n",
       "  </thead>\n",
       "  <tbody>\n",
       "    <tr>\n",
       "      <th>0</th>\n",
       "      <td>1</td>\n",
       "      <td>3</td>\n",
       "      <td>1</td>\n",
       "      <td>22.0</td>\n",
       "      <td>1</td>\n",
       "      <td>0</td>\n",
       "      <td>7.2500</td>\n",
       "      <td>147</td>\n",
       "      <td>2</td>\n",
       "      <td>4</td>\n",
       "      <td>162</td>\n",
       "    </tr>\n",
       "    <tr>\n",
       "      <th>1</th>\n",
       "      <td>2</td>\n",
       "      <td>1</td>\n",
       "      <td>0</td>\n",
       "      <td>38.0</td>\n",
       "      <td>1</td>\n",
       "      <td>0</td>\n",
       "      <td>71.2833</td>\n",
       "      <td>81</td>\n",
       "      <td>0</td>\n",
       "      <td>17</td>\n",
       "      <td>126</td>\n",
       "    </tr>\n",
       "    <tr>\n",
       "      <th>2</th>\n",
       "      <td>3</td>\n",
       "      <td>3</td>\n",
       "      <td>0</td>\n",
       "      <td>26.0</td>\n",
       "      <td>0</td>\n",
       "      <td>0</td>\n",
       "      <td>7.9250</td>\n",
       "      <td>147</td>\n",
       "      <td>2</td>\n",
       "      <td>36</td>\n",
       "      <td>343</td>\n",
       "    </tr>\n",
       "    <tr>\n",
       "      <th>3</th>\n",
       "      <td>4</td>\n",
       "      <td>1</td>\n",
       "      <td>0</td>\n",
       "      <td>35.0</td>\n",
       "      <td>1</td>\n",
       "      <td>0</td>\n",
       "      <td>53.1000</td>\n",
       "      <td>55</td>\n",
       "      <td>2</td>\n",
       "      <td>38</td>\n",
       "      <td>51</td>\n",
       "    </tr>\n",
       "    <tr>\n",
       "      <th>4</th>\n",
       "      <td>5</td>\n",
       "      <td>3</td>\n",
       "      <td>1</td>\n",
       "      <td>35.0</td>\n",
       "      <td>0</td>\n",
       "      <td>0</td>\n",
       "      <td>8.0500</td>\n",
       "      <td>147</td>\n",
       "      <td>2</td>\n",
       "      <td>38</td>\n",
       "      <td>595</td>\n",
       "    </tr>\n",
       "  </tbody>\n",
       "</table>\n",
       "</div>"
      ],
      "text/plain": [
       "   PassengerId  Pclass  Sex   Age  SibSp  Parch     Fare  Cabin  Embarked  t1  \\\n",
       "0            1       3    1  22.0      1      0   7.2500    147         2   4   \n",
       "1            2       1    0  38.0      1      0  71.2833     81         0  17   \n",
       "2            3       3    0  26.0      0      0   7.9250    147         2  36   \n",
       "3            4       1    0  35.0      1      0  53.1000     55         2  38   \n",
       "4            5       3    1  35.0      0      0   8.0500    147         2  38   \n",
       "\n",
       "    t2  \n",
       "0  162  \n",
       "1  126  \n",
       "2  343  \n",
       "3   51  \n",
       "4  595  "
      ]
     },
     "execution_count": 5,
     "metadata": {},
     "output_type": "execute_result"
    }
   ],
   "source": [
    "from sklearn.preprocessing import StandardScaler\n",
    "\n",
    "# -------------------------------------------------------------------------------\n",
    "# The following is some boilerplate to load and do a little tidying up\n",
    "# of the data with pandas. There is also a function here to write out the validation\n",
    "# set out to file. \n",
    "# -------------------------------------------------------------------------------\n",
    "def read(file_path):\n",
    "    \"\"\" Read a CSV file containing the Titanic dataset\n",
    "    \n",
    "    This will do some initial tidying up of the dataset to make the feature columns into\n",
    "    a state that the model can understand.\n",
    "    \"\"\"\n",
    "    def clean_ticket(df):\n",
    "        df[['t1', 't2']] = df.Ticket.str.extract(\"([A-Z][A-Za-z0-9\\/.]+)?\\s?([0-9]+)\")\n",
    "        return df.fillna({'t1': 'U'})\n",
    "\n",
    "    # Clean up some of the data to make it more managable\n",
    "    # You could do more stuff here to make better use of the variable you have\n",
    "    df = (pd.read_csv(file_path)\n",
    "            .drop(columns=['Name'])\n",
    "            .fillna({'Cabin': 'U', 'Embarked': 'U', 'Fare': 0., 'Age': 0})\n",
    "            .pipe(clean_ticket)\n",
    "            .drop(columns='Ticket')\n",
    "            .assign(Cabin=lambda x: pd.Categorical(x['Cabin']).codes,\n",
    "                    Embarked=lambda x: pd.Categorical(x['Embarked']).codes,\n",
    "                    Sex=lambda x: pd.Categorical(x['Sex']).codes,\n",
    "                    t1=lambda x: pd.Categorical(x['t1']).codes,\n",
    "                    t2=lambda x: pd.Categorical(x['t2']).codes))\n",
    "    \n",
    "    if 'Survived' in df.columns:\n",
    "        # Return both X and y if this is a training dataset\n",
    "        return df.drop(columns='Survived'), df['Survived'].values\n",
    "    else:\n",
    "        # Just return X if this is the test dataset\n",
    "        return df\n",
    "\n",
    "\n",
    "def write(file_path, data, pids):\n",
    "    \"\"\" Write a CSV file containing the Titanic dataset predictions\"\"\"\n",
    "    output = pd.Series(data, index=pids, name='Survived')\n",
    "    output.index.name = \"PassengerId\"\n",
    "    output.to_csv(file_path, header=True)\n",
    "\n",
    "# -------------------------------------------------------------------------------\n",
    "# The code for training the model starts here\n",
    "# -------------------------------------------------------------------------------\n",
    "\n",
    "X, y = read(\"data/titanic/train.csv\")\n",
    "\n",
    "# Use pandas to show use the to n rows of the data\n",
    "X.head()"
   ]
  },
  {
   "cell_type": "markdown",
   "metadata": {},
   "source": [
    "Below is the actual code for training the model"
   ]
  },
  {
   "cell_type": "code",
   "execution_count": 10,
   "metadata": {},
   "outputs": [
    {
     "data": {
      "image/png": "[encoded data removed]",
      "text/plain": [
       "<Figure size 432x288 with 2 Axes>"
      ]
     },
     "metadata": {
      "needs_background": "light"
     },
     "output_type": "display_data"
    }
   ],
   "source": [
    "# Split into training & test\n",
    "X_train, X_test, y_train, y_test = train_test_split(X, y, test_size=.2)\n",
    "\n",
    "# Classify\n",
    "classifier = linear_model.LogisticRegression(solver='lbfgs', max_iter=10000)\n",
    "classifier.fit(X_train, y_train)\n",
    "y_predicted = classifier.predict(X_test)\n",
    "\n",
    "# Check our predictions\n",
    "cm = confusion_matrix(y_predicted, y_test)\n",
    "plot_confusion_matrix(cm, ['Died', 'Survived'])"
   ]
  },
  {
   "cell_type": "markdown",
   "metadata": {},
   "source": [
    "### Write Submisson for Kaggle\n",
    "This will load the validation set, run the classifier, the save the resulting labels in the format expected by Kaggle. I currenty have 76% accuracy on this dataset on kaggle. Play around with the code and see if you can make it higher!"
   ]
  },
  {
   "cell_type": "code",
   "execution_count": 11,
   "metadata": {},
   "outputs": [],
   "source": [
    "X_validation = read(\"data/titanic/test.csv\")\n",
    "y_validation = classifier.predict(X_validation)\n",
    "write(\"data/submission.csv\", y_validation, X_validation['PassengerId'])"
   ]
  }
 ],
 "metadata": {
  "kernelspec": {
   "display_name": "Python 3",
   "language": "python",
   "name": "python3"
  },
  "language_info": {
   "codemirror_mode": {
    "name": "ipython",
    "version": 3
   },
   "file_extension": ".py",
   "mimetype": "text/x-python",
   "name": "python",
   "nbconvert_exporter": "python",
   "pygments_lexer": "ipython3",
   "version": "3.6.7"
  }
 },
 "nbformat": 4,
 "nbformat_minor": 2
}
